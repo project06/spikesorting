{
 "cells": [
  {
   "cell_type": "markdown",
   "metadata": {},
   "source": [
    "<div>\n",
    "    <h1 style=\"margin-top:1em;font-weight:700\">ALGORITHM 2 (STATISTICAL ANALYSIS)</h1>\n",
    "    <br>\n",
    "    <h3 style=\"margin-left:1em; margin-top:1em;font-weight:700\">NAVIGATION BUTTONS</h3>\n",
    "    <a href=\"#0\" style=\"text-decoration:none; color:#000000\">\n",
    "    <div style=\"padding:1em; height:12em; width:12em; border-radius:12em;  background-color:#EEEEEE;float:left;margin-left:1em;margin-top:1em\">\n",
    "        <center style=\"margin-top:1.2em; font-weight:700; font-size:2em; \">\n",
    "            0\n",
    "        </center>\n",
    "        <center style=\"font-weight:700; font-size:1em; \">\n",
    "            ALGORITHM SETTINGS\n",
    "        </center>\n",
    "    </div>\n",
    "    </a>\n",
    "    <a href=\"#1\" style=\"text-decoration:none; color:#000000\">\n",
    "    <div style=\"padding:1em; height:12em; width:12em; border-radius:12em;  background-color:#F0C38F;float:left;margin-left:1em;margin-top:1em\">\n",
    "        <center style=\"margin-top:1.2em; font-weight:700; font-size:2em; \">\n",
    "            1\n",
    "        </center>\n",
    "        <center style=\"font-weight:700; font-size:1em; \">\n",
    "            ACTIVITY BARPLOT\n",
    "        </center>\n",
    "    </div>\n",
    "    </a>\n",
    "    <a href=\"#2\" style=\"text-decoration:none; color:#000000\">\n",
    "    <div style=\"padding:1em; height:12em; width:12em; border-radius:12em;  background-color:#EE999F; float:left; margin-left:1em; margin-top:1em\">\n",
    "        <center style=\"margin-top:1.2em; font-weight:700; font-size:2em;\">\n",
    "            2\n",
    "        </center>\n",
    "        <center style=\"font-weight:700; font-size:1em; \">\n",
    "            FREQUENCY VARIATION OVER TIME (IFR)\n",
    "        </center>    \n",
    "    </div>\n",
    "    </a>\n",
    "    <a href=\"#3\" style=\"text-decoration:none; color:#000000\">\n",
    "    <div style=\"padding:1em; height:12em; width:12em; border-radius:12em;  background-color:#AECDAD; float:left; margin-left:1em; margin-top:1em\">\n",
    "        <center style=\"margin-top:1.2em; font-weight:700; font-size:2em;\">\n",
    "            3\n",
    "        </center>\n",
    "        <center style=\"font-weight:700; font-size:1em; \">\n",
    "            ISI\n",
    "        </center>\n",
    "    </div>\n",
    "    </a>\n",
    "    <a href=\"#4\" style=\"text-decoration:none; color:#000000\">\n",
    "    <div style=\"padding:1em; height:12em; width:12em; border-radius:12em;  background-color:#7EC0EE; float:left; margin-left:1em; margin-top:1em\">\n",
    "        <center style=\"margin-top:1.2em; font-weight:700; font-size:2em;\">\n",
    "            4\n",
    "        </center>\n",
    "        <center style=\"font-weight:700; font-size:1em; \">\n",
    "            ISI PROBABILITY DENSITY FUNCTION\n",
    "        </center>\n",
    "    </div>\n",
    "    </a>\n",
    "    <a href=\"#5\" style=\"text-decoration:none; color:#000000\">\n",
    "    <div style=\"padding:1em; height:12em; width:12em; border-radius:12em;  background-color:#E0BBE4; float:left; margin-left:1em; margin-top:1em\">\n",
    "        <center style=\"margin-top:1.2em; font-weight:700; font-size:2em;\">\n",
    "            5\n",
    "        </center>\n",
    "        <center style=\"font-weight:700; font-size:1em; \">\n",
    "            BURSTS\n",
    "        </center>\n",
    "    </div>\n",
    "    </a>\n",
    "</div>"
   ]
  },
  {
   "cell_type": "markdown",
   "metadata": {},
   "source": [
    "<br><br><br>"
   ]
  },
  {
   "cell_type": "markdown",
   "metadata": {},
   "source": [
    "<br><br><br><br><br>\n",
    "\n",
    "<a id='0'></a>\n",
    "<div style=\"background-color:#EEEEEE; font-size:1.5em;text-align:left;padding:0.7em;\"><b>0) ALGORITHM SETTINGS</b></div>\n",
    "<hr>"
   ]
  },
  {
   "cell_type": "markdown",
   "metadata": {},
   "source": [
    "#### IMPORTING LIBRARIES"
   ]
  },
  {
   "cell_type": "code",
   "execution_count": null,
   "metadata": {},
   "outputs": [],
   "source": [
    "from Alg2 import *\n",
    "plt.rcParams.update(plt.rcParamsDefault)\n",
    "pltstyle.use('seaborn-dark') #Comment this line if you want the white graphs"
   ]
  },
  {
   "cell_type": "markdown",
   "metadata": {},
   "source": [
    "#### SAVING FILES OPTIONS"
   ]
  },
  {
   "cell_type": "code",
   "execution_count": null,
   "metadata": {},
   "outputs": [],
   "source": [
    "save_images = False\n",
    "time_name = False"
   ]
  },
  {
   "cell_type": "markdown",
   "metadata": {},
   "source": [
    "#### OUTPUT FOLDER"
   ]
  },
  {
   "cell_type": "code",
   "execution_count": null,
   "metadata": {},
   "outputs": [],
   "source": [
    "#Set the name of the folder that will contain all the results of the statistical analysis\n",
    "MEA = \"\"\n",
    "cell_type = \"\"\n",
    "output_folder_name = MEA + \" \" + cell_type + \" stats\""
   ]
  },
  {
   "cell_type": "code",
   "execution_count": null,
   "metadata": {},
   "outputs": [],
   "source": [
    "#CREATING OUTPUT FOLDER\n",
    "if (save_images == True):\n",
    "    if time_name == True: \n",
    "        now = str(datetime.datetime.now())[:19]\n",
    "        now = now.replace(\":\",\".\")\n",
    "        desktop = os.path.join(os.path.join(os.path.expanduser('~')), 'Desktop')\n",
    "        output_path = desktop + \"/\" + output_folder_name + \" \" + now\n",
    "        os.makedirs(output_path)\n",
    "        print(\"A new folder named\", output_folder_name + \" \" + now, \"that will contain all the results has been created on your desktop\")\n",
    "    else:\n",
    "        desktop = os.path.join(os.path.join(os.path.expanduser('~')), 'Desktop')\n",
    "        output_path = desktop + \"/\" + output_folder_name\n",
    "        os.makedirs(output_path)\n",
    "        print(\"\\nA new folder named '\" + output_folder_name + \"' has been created on your desktop\")\n",
    "else:\n",
    "    current_dir = None"
   ]
  },
  {
   "cell_type": "markdown",
   "metadata": {},
   "source": [
    "<h4 style=\"color:black\">LOADING TIME VECTOR, LEGEND & CLUSTERING INDEXES</h4>"
   ]
  },
  {
   "cell_type": "code",
   "execution_count": null,
   "metadata": {},
   "outputs": [],
   "source": [
    "input_path = \"\""
   ]
  },
  {
   "cell_type": "code",
   "execution_count": null,
   "metadata": {},
   "outputs": [],
   "source": [
    "time_file_name = input_path + \"/time_vector.npz\"\n",
    "legend_file_name = input_path + \"/legend.h5\"\n",
    "cluster_file_name = input_path + \"/NeuronIndexesHIERARCHICAL.npz\""
   ]
  },
  {
   "cell_type": "code",
   "execution_count": null,
   "metadata": {},
   "outputs": [],
   "source": [
    "# Time Vector =================================================\n",
    "npzfile = np.load(time_file_name, allow_pickle = True)\n",
    "time_vector = npzfile['arr_0']\n",
    "fs = time_vector[0]\n",
    "n_samples = time_vector[1]\n",
    "duration = n_samples/fs\n",
    "del time_vector\n",
    "\n",
    "# Legend ======================================================\n",
    "legend = pd.read_hdf(legend_file_name, 'data')\n",
    "#Encoding from str to bytes\n",
    "encoded_electrodes = []\n",
    "for electrode in legend.columns:\n",
    "    encoded_electrodes.append(electrode.encode(encoding='utf-8'))\n",
    "\n",
    "legend.columns = encoded_electrodes\n",
    "del encoded_electrodes\n",
    "\n",
    "\n",
    "# Cluster =====================================================\n",
    "npzfile = np.load(cluster_file_name, allow_pickle = True)\n",
    "cluster = npzfile['arr_0']\n",
    "\n",
    "print(\"Everything Loaded\")"
   ]
  },
  {
   "cell_type": "markdown",
   "metadata": {},
   "source": [
    "<hr><br><br><br><br><br>\n",
    "<a id='1'></a>\n",
    "<div style=\"background-color:#F0C38F; font-size:1.5em;text-align:left;padding:0.7em\"><b>1) ACTIVITY BARPLOT</b></div> \n",
    "<hr>"
   ]
  },
  {
   "cell_type": "code",
   "execution_count": null,
   "metadata": {},
   "outputs": [],
   "source": [
    "#Working Directory of the Activity Barplot\n",
    "if (save_images == True):\n",
    "    current_dir = output_path + \"/1. Activity Barplot\"\n",
    "    os.makedirs(current_dir)"
   ]
  },
  {
   "cell_type": "code",
   "execution_count": null,
   "metadata": {},
   "outputs": [],
   "source": [
    "plt.clf() #To clear the cache of matplotlib\n",
    "max_indexes, min_indexes = SpikeNumberInWindow(max_n=25, cluster=cluster, window=30, duration=duration, electrodes_name=legend.columns, legend=legend, fs=fs, save=save_images, current_dir=current_dir)"
   ]
  },
  {
   "cell_type": "markdown",
   "metadata": {},
   "source": [
    "<hr><br><br><br><br><br>\n",
    "<a id='2'></a>\n",
    "<div style=\"background-color:#EE999F; font-size:1.5em;text-align:left;padding:0.7em\"><b>2) FREQUENCY VARIATION OVER TIME (ISTANTANEOUS FIRING RATE)</b></div> \n",
    "<hr>"
   ]
  },
  {
   "cell_type": "code",
   "execution_count": null,
   "metadata": {},
   "outputs": [],
   "source": [
    "#Working Directory of the Frequency Variation during time\n",
    "if (save_images == True):\n",
    "    current_dir = output_path + \"/2. Frequency variation\"\n",
    "    os.makedirs(current_dir)"
   ]
  },
  {
   "cell_type": "code",
   "execution_count": null,
   "metadata": {},
   "outputs": [],
   "source": [
    "plt.clf() #To clear the cache of matplotlib\n",
    "data_neurons = FrequencyVariation(max_n=25, cluster=cluster, electrodes_name=legend.columns, num_of_samples=n_samples, fs=fs, legend=legend, save=save_images, current_dir=current_dir, secondi=5)\n",
    "\n",
    "print(\"\\nMedia delle frequenze di sparo medie dei neuroni:\\n\", np.mean(data_neurons[\"Media\"].values))\n",
    "print(\"\\nDeviazione standard delle frequenze di sparo medie dei neuroni:\\n\", np.std(data_neurons[\"Media\"].values))"
   ]
  },
  {
   "cell_type": "markdown",
   "metadata": {},
   "source": [
    "<hr><br><br><br><br><br>\n",
    "<a id='3'></a>\n",
    "<div style=\"background-color:#AECDAD; font-size:1.5em;text-align:left;padding:0.7em\"><b>3) ISI HISTOGRAM</b></div> \n",
    "<hr>"
   ]
  },
  {
   "cell_type": "code",
   "execution_count": null,
   "metadata": {},
   "outputs": [],
   "source": [
    "#In seconds, write here the time interval in which you want to analyse you results\n",
    "pre_seconds = 100\n",
    "post_seconds = 300\n",
    "\n",
    "pre_samples = pre_seconds*fs\n",
    "post_samples = post_seconds*fs\n",
    "\n",
    "print(\"Total signal cut between\", pre_seconds, \"seconds and\", post_seconds, \"seconds\")"
   ]
  },
  {
   "cell_type": "code",
   "execution_count": null,
   "metadata": {},
   "outputs": [],
   "source": [
    "#Cutting the signal to analyse the same portion among all datasets\n",
    "for electrode in range(len(cluster)):\n",
    "    if cluster[electrode] != None:\n",
    "        for neuron in range(len(cluster[electrode])):\n",
    "            cluster[electrode][neuron] = cluster[electrode][neuron][(pre_samples < cluster[electrode][neuron]) & (cluster[electrode][neuron] < post_samples)]"
   ]
  },
  {
   "cell_type": "markdown",
   "metadata": {},
   "source": [
    "<br><br>"
   ]
  },
  {
   "cell_type": "code",
   "execution_count": null,
   "metadata": {},
   "outputs": [],
   "source": [
    "#Working Directory of the ISI Histogram\n",
    "if (save_images == True):\n",
    "    current_dir = output_path + \"/3. ISI\"\n",
    "    os.makedirs(current_dir)"
   ]
  },
  {
   "cell_type": "code",
   "execution_count": null,
   "metadata": {},
   "outputs": [],
   "source": [
    "plt.clf() #To clear the cache of matplotlib\n",
    "diff_indexes = ISI(max_n=25, cluster=cluster, electrodes_name=legend.columns, fs=fs, save=save_images, current_dir=current_dir, legend=legend)"
   ]
  },
  {
   "cell_type": "markdown",
   "metadata": {},
   "source": [
    "<hr>"
   ]
  },
  {
   "cell_type": "markdown",
   "metadata": {},
   "source": [
    "<br><br><br><br><br>\n",
    "<a id='4'></a>\n",
    "<div style=\"background-color:#7EC0EE; font-size:1.5em;text-align:left;padding:0.7em\"><b>4) ISIH and PDF</b></div> \n",
    "<hr>"
   ]
  },
  {
   "cell_type": "code",
   "execution_count": null,
   "metadata": {},
   "outputs": [],
   "source": [
    "#Working Directory of the KSTests on ISIH\n",
    "if (save_images == True):\n",
    "    current_dir = output_path + \"/4. ISIH and PDF\"\n",
    "    os.makedirs(current_dir)"
   ]
  },
  {
   "cell_type": "code",
   "execution_count": null,
   "metadata": {},
   "outputs": [],
   "source": [
    "number_of_neurons = len(diff_indexes)\n",
    "for neuron in range(number_of_neurons):\n",
    "    \n",
    "    data = diff_indexes[neuron]\n",
    "    \n",
    "    print(\"NEURONE \", neuron+1, \"/\", number_of_neurons, \" =============================================================================\")\n",
    "    print(\"L'istogramma contiene \" + str(len(data)) + \" campioni\")\n",
    "    #Histogram resolution\n",
    "    resolution = 10\n",
    "    \n",
    "    \n",
    "    # INVERSE GAUSSIAN ==================================================================\n",
    "    #mu, loc, scale\n",
    "    shape_parameters = stats.invgauss.fit(data)\n",
    "    mu = shape_parameters[0]\n",
    "    loc = shape_parameters[1]\n",
    "    scale = shape_parameters[2]\n",
    "\n",
    "    pace = [x*resolution for x in range(int(fs/resolution))]\n",
    "\n",
    "    plt.clf()\n",
    "    plt.figure(figsize=(28,14))\n",
    "    plt.rcParams.update({'font.size': 26})\n",
    "\n",
    "    #PROBABILITY DISTRIBUTION\n",
    "    plt.subplot(121)\n",
    "    plt.grid()\n",
    "    plt.xlabel(\"Tempo [0.1ms]\")\n",
    "    plt.title(\"Inverse Gaussian VS ISI\")\n",
    "    x = np.linspace(stats.invgauss.ppf(0.000001, mu, loc, scale), stats.invgauss.ppf(0.99999, mu, loc, scale), 1000)\n",
    "    plt.hist(data, density=True, bins=pace, alpha=0.6,lw=2, label=\"Detected ISI probability distribution\")\n",
    "    invgauss_label = \"Inverse Gaussian PDF \\n\" + \"mu = \" + str(mu) + \"\\nloc = \" + str(loc) + \"\\nscale = \" + str(scale)\n",
    "    plt.plot(x, stats.invgauss.pdf(x, mu, loc, scale),'r-', lw=2, label=invgauss_label)\n",
    "    #plt.axis([0,2000, 0, 0.007])\n",
    "    plt.legend()\n",
    "\n",
    "    #QQPLOT\n",
    "    plt.subplot(122)\n",
    "    plt.grid()\n",
    "    stats.probplot(data, dist=\"invgauss\",sparams=(mu,loc,scale),fit=False, plot=plt)\n",
    "    plt.title(\"QQPlot - Inverse Gaussian PDF\")\n",
    "    plt.xlabel(\"Quantili teorici\")\n",
    "    plt.ylabel(\"Valori ordinati\")\n",
    "    \n",
    "    if save_images == True:   \n",
    "        file_name = current_dir + \"/Neuron_\" + str(neuron+1) + \"_INVGAUSS.png\"\n",
    "        plt.savefig(file_name, dpi=300)\n",
    "    \n",
    "    plt.show()\n",
    "\n",
    "    #KSTEST (Not useful as the distribution parameters are estimated...)\n",
    "    print(\"Neurone \", neuron+1,\"/\", number_of_neurons, \" - KSTEST ON INVGAUSS PDF\")\n",
    "    print(stats.kstest(data, 'invgauss', args=(mu, loc, scale)))\n",
    "    print(\"\\n\")\n",
    "\n",
    "\n",
    "\n",
    "\n",
    "    # EXPONENTIAL =====================================================================\n",
    "    # loc, scale\n",
    "    shape_parameters = stats.expon.fit(data)\n",
    "    loc = shape_parameters[0]\n",
    "    scale = shape_parameters[1]\n",
    "\n",
    "    plt.figure(figsize=(28,14))\n",
    "    plt.rcParams.update({'font.size': 26})\n",
    "\n",
    "\n",
    "\n",
    "    #PROBABILITY DISTRIBUTION\n",
    "    plt.subplot(121)\n",
    "    plt.grid()\n",
    "    plt.title(\"Esponenziale VS ISI\")\n",
    "    plt.xlabel(\"Tempo [0.1ms]\")\n",
    "    x = np.linspace(stats.expon.ppf(0.000001, loc, scale), stats.expon.ppf(0.99999, loc, scale), 1000)\n",
    "    plt.hist(data, density=True, bins=pace, alpha=0.6,lw=2, label=\"Detected ISI probability distribution\")\n",
    "    expon_label = \"Exponential PDF\" + \"\\nloc = \" + str(loc) + \"\\nscale = \" + str(scale)\n",
    "    plt.plot(x, stats.expon.pdf(x, loc, scale),'r-', lw=2, label=expon_label)\n",
    "    #plt.axis([0,2000, 0, 0.007])\n",
    "    plt.legend()\n",
    "\n",
    "    #QQPLOT\n",
    "    plt.subplot(122)\n",
    "    plt.grid()\n",
    "    stats.probplot(data, dist=\"expon\",sparams=(loc,scale), fit=False, plot=plt)\n",
    "    plt.title(\"QQPlot - Esponenziale PDF\")\n",
    "    plt.xlabel(\"Quantili teorici\")\n",
    "    plt.ylabel(\"Valori ordinati\")\n",
    "\n",
    "    if save_images == True:   \n",
    "        file_name = current_dir + \"/Neuron_\" + str(neuron+1) + \"_EXPONENTIAL.png\"\n",
    "        plt.savefig(file_name, dpi=300)\n",
    "    \n",
    "    plt.show()\n",
    "\n",
    "    #KSTEST (Not useful as the distribution parameters are estimated...)\n",
    "    print(\"Neurone \", neuron+1,\"/\", number_of_neurons, \" - KSTEST ON EXPONENTIAL PDF\")\n",
    "    print(stats.kstest(data, 'expon', args=(loc, scale)))\n",
    "    print(\"\\n\")"
   ]
  },
  {
   "cell_type": "markdown",
   "metadata": {},
   "source": [
    "<hr><br><br><br><br><br>\n",
    "<a id='5'></a>\n",
    "<div style=\"background-color:#E0BBE4; font-size:1.5em;text-align:left;padding:0.7em\"><b>5) BURSTS</b></div> \n",
    "<hr>"
   ]
  },
  {
   "cell_type": "code",
   "execution_count": null,
   "metadata": {},
   "outputs": [],
   "source": [
    "#Working Directory of the Bursts\n",
    "if (save_images == True):\n",
    "    current_dir = output_path + \"/5. Bursts\"\n",
    "    os.makedirs(current_dir)"
   ]
  },
  {
   "cell_type": "code",
   "execution_count": null,
   "metadata": {},
   "outputs": [],
   "source": [
    "# Time Vector =================================================\n",
    "npzfile = np.load(time_file_name, allow_pickle = True)\n",
    "time_vector = npzfile['arr_0']\n",
    "fs = time_vector[0]\n",
    "n_samples = time_vector[1]\n",
    "duration = n_samples/fs\n",
    "del time_vector\n",
    "\n",
    "# Legend ======================================================\n",
    "legend = pd.read_hdf(legend_file_name, 'data')\n",
    "#Encoding from str to bytes\n",
    "encoded_electrodes = []\n",
    "for electrode in legend.columns:\n",
    "    encoded_electrodes.append(electrode.encode(encoding='utf-8'))\n",
    "\n",
    "legend.columns = encoded_electrodes\n",
    "del encoded_electrodes\n",
    "\n",
    "\n",
    "# Cluster =====================================================\n",
    "npzfile = np.load(cluster_file_name, allow_pickle = True)\n",
    "cluster = npzfile['arr_0']\n",
    "\n",
    "print(\"Everything Loaded\")\n",
    "\n",
    "#In seconds, write here the time interval in which you want to analyse you results\n",
    "pre_seconds = 0\n",
    "post_seconds = 360\n",
    "\n",
    "pre_samples = pre_seconds*fs\n",
    "post_samples = post_seconds*fs\n",
    "\n",
    "print(\"Total signal cut between\", pre_seconds, \"seconds and\", post_seconds, \"seconds\")"
   ]
  },
  {
   "cell_type": "code",
   "execution_count": null,
   "metadata": {},
   "outputs": [],
   "source": [
    "#Cutting the signal to analyse the same portion among all datasets\n",
    "for electrode in range(len(cluster)):\n",
    "    if cluster[electrode] != None:\n",
    "        for neuron in range(len(cluster[electrode])):\n",
    "            cluster[electrode][neuron] = cluster[electrode][neuron][(pre_samples < cluster[electrode][neuron]) & (cluster[electrode][neuron] < post_samples)]"
   ]
  },
  {
   "cell_type": "code",
   "execution_count": null,
   "metadata": {},
   "outputs": [],
   "source": [
    "#CALC THE ML\n",
    "ML = FindML(cluster = cluster, electrodes_name=legend.columns, legend=legend, fs=fs, maximum_time_interval = 0.06)\n",
    "\n",
    "#FUNZIONE CHIAMANTE PER FINDBURSTS\n",
    "burst = pd.DataFrame(columns=['Canale', 'Neurone', 'Indice_in', 'Indice_fin', 'Durata', 'Num_spikes', 'Tempo_minimo(soglia)'])\n",
    "n=0\n",
    "i=0\n",
    "for electrode in tqdm(legend.columns):\n",
    "    if cluster[legend[electrode].values[0]] != None:\n",
    "        for neurone in (range(len(cluster[i]))):\n",
    "            burst = burst.append(FindBursts(neuron_indexes=cluster[i][neurone], thr=ML[n], electrode_name=electrode, neuron_number=n, fs=fs))\n",
    "            n+=1\n",
    "    i+=1\n",
    "    \n",
    "#COUNTING THE NUMBER OF NEURONS\n",
    "num_of_neurons = 0\n",
    "for electrode in legend.columns:\n",
    "    if cluster[legend[electrode].values[0]] != None:   \n",
    "        num_of_neurons = num_of_neurons + len(cluster[legend[electrode].values[0]])"
   ]
  },
  {
   "cell_type": "markdown",
   "metadata": {},
   "source": [
    "#### Numero medio di burst per neurone"
   ]
  },
  {
   "cell_type": "code",
   "execution_count": null,
   "metadata": {},
   "outputs": [],
   "source": [
    "#NUMERO DI BURST PER CLUSTER\n",
    "num=np.empty(0)\n",
    "for i in range(num_of_neurons): \n",
    "    cond = (burst['Neurone'] == i)\n",
    "    if np.count_nonzero(cond) != 0:\n",
    "        num = np.append(num,(burst[cond]['Neurone'].values))\n",
    "    else:\n",
    "        num = np.append(num, 0)\n",
    "\n",
    "valori = []\n",
    "for i in range(max(num)+1):\n",
    "    valori.append(np.count_nonzero(num==i))\n",
    "\n",
    "#Dati riferiti al grafico già mediato\n",
    "print(\"\\nNumero di burst per neurone\")\n",
    "print(\"Media: \", np.mean(valori))\n",
    "print(\"Deviazione standard: \", np.std(valori))\n",
    "    \n",
    "# GRAFICI ==========================================================================\n",
    "    \n",
    "plt.clf() #clear cache\n",
    "\n",
    "\n",
    "#BARPLOT\n",
    "plt.figure(figsize=(20,10))\n",
    "plt.grid(lw=2)\n",
    "plt.bar(np.arange(num_of_neurons), valori, color = '#779ecb')\n",
    "plt.rc('xtick', labelsize=13)\n",
    "plt.xticks(np.arange(num_of_neurons))\n",
    "plt.xlabel(\"Neurone\")\n",
    "plt.ylabel(\"Numero di burst\")\n",
    "if save_images == True:   \n",
    "    file_name = current_dir + \"/Numero medio di burst per neurone.png\"\n",
    "    plt.savefig(file_name, dpi=300)\n",
    "plt.show()\n",
    "\n",
    "\n",
    "#BOXPLOT (del grafico)\n",
    "plt.figure(figsize=(6,6))\n",
    "plt.boxplot(valori)\n",
    "plt.grid(lw=1, axis=\"y\")\n",
    "plt.yticks(np.linspace(0, max(valori), 10))\n",
    "plt.rc('ytick', labelsize=10)\n",
    "if save_images == True:   \n",
    "    file_name = current_dir + \"/Numero medio di burst per neurone - Boxplot.png\"\n",
    "    plt.savefig(file_name, dpi=300)\n",
    "plt.show()"
   ]
  },
  {
   "cell_type": "markdown",
   "metadata": {},
   "source": [
    "#### Durata media dei burst per neurone"
   ]
  },
  {
   "cell_type": "code",
   "execution_count": null,
   "metadata": {},
   "outputs": [],
   "source": [
    "#DURATA MEDIA DEI BURST PER CLUSTER\n",
    "\n",
    "num=np.empty(0)\n",
    "for i in range(num_of_neurons): \n",
    "    cond = (burst['Neurone'] == i)\n",
    "    if np.count_nonzero(cond) != 0:\n",
    "        num = np.append(num,(np.mean(burst[cond]['Durata'].values)))\n",
    "    else:\n",
    "        num = np.append(num, 0)\n",
    "\n",
    "#Dati riferiti ai singoli burst rilevati\n",
    "print(\"\\nDurata media dei burst per neurone\")\n",
    "print(\"Media: \", np.mean(burst['Durata'].values))\n",
    "print(\"Deviazione standard: \", np.std(burst['Durata'].values))\n",
    "\n",
    "# GRAFICI ==========================================================================\n",
    "    \n",
    "plt.clf() #clear cache\n",
    "\n",
    "\n",
    "#BARPLOT\n",
    "plt.figure(figsize=(20,10))\n",
    "plt.grid(lw=2)\n",
    "plt.bar(np.arange(num_of_neurons), num, color = '#779ecb')\n",
    "plt.xticks(np.arange(num_of_neurons))\n",
    "plt.rc('xtick', labelsize=13)\n",
    "plt.xlabel(\"Neurone\")\n",
    "plt.ylabel(\"Durata media [s]\")\n",
    "if save_images == True:   \n",
    "    file_name = current_dir + \"/Durata media dei burst per neurone.png\"\n",
    "    plt.savefig(file_name, dpi=300)\n",
    "plt.show()\n",
    "\n",
    "\n",
    "#BOXPLOT (del grafico)\n",
    "plt.figure(figsize=(6,6))\n",
    "plt.boxplot(num)\n",
    "plt.grid(lw=1, axis=\"y\")\n",
    "plt.yticks(np.linspace(0, max(num), 10))\n",
    "plt.rc('ytick', labelsize=10)\n",
    "if save_images == True:   \n",
    "    file_name = current_dir + \"/Durata media dei burst per neurone - Boxplot.png\"\n",
    "    plt.savefig(file_name, dpi=300)\n",
    "plt.show()"
   ]
  },
  {
   "cell_type": "markdown",
   "metadata": {},
   "source": [
    "#### Numero medio di spike presenti nei burst del neurone"
   ]
  },
  {
   "cell_type": "code",
   "execution_count": null,
   "metadata": {},
   "outputs": [],
   "source": [
    "#NUMERO MEDIO DI SPIKE DEI BURST PER NEURONE\n",
    "\n",
    "num=np.empty(0)\n",
    "for i in range(num_of_neurons): \n",
    "    cond = (burst['Neurone'] == i)\n",
    "    if np.count_nonzero(cond) != 0:\n",
    "        num = np.append(num,(np.mean(burst[cond]['Num_spikes'].values)))\n",
    "    else:\n",
    "        num = np.append(num, 0)\n",
    "\n",
    "#Dati riferiti ai singoli burst rilevati\n",
    "print(\"Numero medio di spike in ciascun burst per neurone\")\n",
    "print(\"Media: \", np.mean(burst['Num_spikes'].values))\n",
    "print(\"Deviazione standard: \", np.std(burst['Num_spikes'].values))\n",
    "\n",
    "# GRAFICI ==========================================================================\n",
    "    \n",
    "plt.clf() #clear cache\n",
    "\n",
    "\n",
    "#BARPLOT\n",
    "plt.figure(figsize=(20,10))\n",
    "plt.grid(lw=2)\n",
    "plt.bar(np.arange(num_of_neurons), num, color = '#779ecb')\n",
    "plt.xticks(np.arange(num_of_neurons))\n",
    "plt.rc('xtick', labelsize=13)\n",
    "plt.xlabel(\"Neurone\")\n",
    "plt.ylabel(\"Numero medio di spike in ciascun burst\")\n",
    "if save_images == True:   \n",
    "    file_name = current_dir + \"/Numero medio di spike nei burst per neurone.png\"\n",
    "    plt.savefig(file_name, dpi=300)\n",
    "plt.show()\n",
    "\n",
    "\n",
    "#BOXPLOT (del grafico)\n",
    "plt.figure(figsize=(6,6))\n",
    "plt.boxplot(num)\n",
    "plt.grid(lw=1, axis=\"y\")\n",
    "plt.yticks(np.linspace(0, max(num), 10))\n",
    "plt.rc('ytick', labelsize=10)\n",
    "if save_images == True:   \n",
    "    file_name = current_dir + \"/Numero medio di spike nei burst per neurone - BOXPLOT.png\"\n",
    "    plt.savefig(file_name, dpi=300)\n",
    "plt.show()"
   ]
  },
  {
   "cell_type": "markdown",
   "metadata": {},
   "source": [
    "#### Posizione dell'attività di burst"
   ]
  },
  {
   "cell_type": "code",
   "execution_count": null,
   "metadata": {},
   "outputs": [],
   "source": [
    "#POSIZIONE ATTIVITÀ DI INIZIO BURST\n",
    "\n",
    "num_burst = np.zeros((num_of_neurons, int((post_seconds-pre_seconds)/30)), dtype=np.uint32)\n",
    "for i in range(num_of_neurons): \n",
    "    cond = (burst['Neurone'] == i)\n",
    "    k=0\n",
    "    for j in (np.arange(pre_seconds, post_seconds, 30)):\n",
    "        count = np.count_nonzero((burst[cond]['Indice_in'].values<=(j+30)*fs) & (burst[cond]['Indice_in'].values>(j*fs)))\n",
    "        num_burst[i, k] = count\n",
    "        k+=1\n",
    "        \n",
    "# GRAFICI ==========================================================================\n",
    "    \n",
    "plt.clf() #clear cache\n",
    "\n",
    "\n",
    "#BARPLOT\n",
    "plt.figure(figsize=(12,6))\n",
    "plt.grid()\n",
    "plt.bar(np.arange(int((post_seconds-pre_seconds)/30)), np.mean(num_burst, axis=0), color = '#779ecb')\n",
    "plt.axis([-1,int((post_seconds-pre_seconds)/30),0.8*np.min(np.mean(num_burst, axis=0)),1.05*np.max(np.mean(num_burst, axis=0))])\n",
    "plt.xticks(np.arange(int((post_seconds-pre_seconds)/30)))\n",
    "plt.rc('xtick', labelsize=13)\n",
    "plt.xlabel(\"Finestra temporale di 30 s\")\n",
    "plt.ylabel(\"Numero medio burst per finestra\")\n",
    "if save_images == True:   \n",
    "    file_name = current_dir + \"/Burst activity during time.png\"\n",
    "    plt.savefig(file_name, dpi=300)\n",
    "plt.show()"
   ]
  },
  {
   "cell_type": "markdown",
   "metadata": {},
   "source": [
    "#### Rasterplot"
   ]
  },
  {
   "cell_type": "code",
   "execution_count": null,
   "metadata": {},
   "outputs": [],
   "source": [
    "#cycle to extract the neurons in a single array\n",
    "neuroni = []\n",
    "for electrode in range(len(cluster)):\n",
    "    if cluster[electrode] != None:\n",
    "        for neuron in range(len(cluster[electrode])):\n",
    "            neuroni.append(cluster[electrode][neuron])\n",
    "\n",
    "#RASTERPLOT (BLUE LINES)\n",
    "lunghezze=np.zeros((len(neuroni), int(max(burst['Indice_fin'].values))), dtype=np.ubyte)\n",
    "\n",
    "for i in np.unique(burst['Neurone'].values):\n",
    "    cond = (burst['Neurone'] == i)\n",
    "    iniziali = (burst[cond][\"Indice_in\"].values)\n",
    "    finali = (burst[cond][\"Indice_fin\"].values)\n",
    "    for j in range(len(np.unique(burst[cond][\"Indice_in\"].values))):\n",
    "        lunghezze[i, iniziali[j]:finali[j]]=np.repeat(1, finali[j]-iniziali[j])\n",
    "\n",
    "plottare=[]\n",
    "dati=np.argwhere(lunghezze==1)\n",
    "for i in range(len(neuroni)):\n",
    "    if(np.count_nonzero(np.argwhere(lunghezze[i]==1))!=0):\n",
    "        plottare.append(dati[dati[:,0]==i][:,1])\n",
    "    else:\n",
    "        plottare.append(np.array([int(min(burst['Indice_in'].values))]))\n",
    "\n",
    "#FINAL RASTERPLOT\n",
    "print(\"Printing the eventplot\")\n",
    "plt.clf()\n",
    "plt.figure(figsize=(20,14))\n",
    "plt.rcParams.update({'font.size': 20})\n",
    "plt.rc('ytick', labelsize=15)\n",
    "plt.style.use('seaborn-dark')\n",
    "plt.grid(lw=1.5, axis=\"y\")\n",
    "plt.eventplot(plottare, linelengths=0.4, lineoffsets=1, colors='#99aaff')\n",
    "plt.eventplot(neuroni, linelengths=0.75, lineoffsets=1, colors='black')\n",
    "plt.xlabel(\"Campioni [0.1ms]\")\n",
    "plt.ylabel(\"Neurone\")\n",
    "plt.yticks(np.arange(0, len(neuroni), 1))\n",
    "plt.axis([73000,87000,-1,len(neuroni)])\n",
    "\n",
    "if save_images == True:   \n",
    "        file_name = current_dir + \"/Eventplot_Burst.png\"\n",
    "        plt.savefig(file_name, dpi=300)\n",
    "        \n",
    "plt.show()"
   ]
  }
 ],
 "metadata": {
  "kernelspec": {
   "display_name": "Python 3",
   "language": "python",
   "name": "python3"
  },
  "language_info": {
   "codemirror_mode": {
    "name": "ipython",
    "version": 3
   },
   "file_extension": ".py",
   "mimetype": "text/x-python",
   "name": "python",
   "nbconvert_exporter": "python",
   "pygments_lexer": "ipython3",
   "version": "3.6.10"
  }
 },
 "nbformat": 4,
 "nbformat_minor": 4
}
